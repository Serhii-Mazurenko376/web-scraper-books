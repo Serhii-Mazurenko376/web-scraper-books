{
  "nbformat": 4,
  "nbformat_minor": 0,
  "metadata": {
    "colab": {
      "provenance": [],
      "authorship_tag": "ABX9TyOaH2uzn1y3WO5UEaCCIO2T",
      "include_colab_link": true
    },
    "kernelspec": {
      "name": "python3",
      "display_name": "Python 3"
    },
    "language_info": {
      "name": "python"
    }
  },
  "cells": [
    {
      "cell_type": "markdown",
      "metadata": {
        "id": "view-in-github",
        "colab_type": "text"
      },
      "source": [
        "<a href=\"https://colab.research.google.com/github/Serhii-Mazurenko376/web-scraper-books/blob/main/book_scraper.ipynb\" target=\"_parent\"><img src=\"https://colab.research.google.com/assets/colab-badge.svg\" alt=\"Open In Colab\"/></a>"
      ]
    },
    {
      "cell_type": "code",
      "execution_count": null,
      "metadata": {
        "id": "9KZvkXhjuTGd"
      },
      "outputs": [],
      "source": [
        "import requests\n",
        "from bs4 import BeautifulSoup\n",
        "import pandas as pd\n",
        "\n",
        "url = 'http://books.toscrape.com/'\n",
        "response = requests.get(url)\n",
        "soup = BeautifulSoup(response.text, 'html.parser')\n",
        "\n",
        "books = soup.select('article.product_pod')\n",
        "\n",
        "data = []\n",
        "for book in books:\n",
        "    title = book.h3.a['title']\n",
        "    price = book.select_one('.price_color').text\n",
        "    rating = book.p['class'][1]  # e.g. 'Three', 'Five'\n",
        "\n",
        "    data.append({'Title': title, 'Price': price, 'Rating': rating})\n",
        "\n",
        "# Save to Excel\n",
        "df = pd.DataFrame(data)\n",
        "df.to_excel('books.xlsx', index=False)\n",
        "\n",
        "print(\"✅ Excel file saved as books.xlsx\")"
      ]
    },
    {
      "cell_type": "code",
      "source": [
        "from google.colab import files\n",
        "files.download('books.xlsx')"
      ],
      "metadata": {
        "id": "K1bW_1FWvGgI"
      },
      "execution_count": null,
      "outputs": []
    }
  ]
}